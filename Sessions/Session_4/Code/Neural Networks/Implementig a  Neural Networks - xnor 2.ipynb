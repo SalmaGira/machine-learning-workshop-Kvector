{
 "metadata": {
  "language_info": {
   "codemirror_mode": {
    "name": "ipython",
    "version": 3
   },
   "file_extension": ".py",
   "mimetype": "text/x-python",
   "name": "python",
   "nbconvert_exporter": "python",
   "pygments_lexer": "ipython3",
   "version": "3.7.6-final"
  },
  "orig_nbformat": 2,
  "kernelspec": {
   "name": "python376jvsc74a57bd0b3ba2566441a7c06988d0923437866b63cedc61552a5af99d1f4fb67d367b25f",
   "display_name": "Python 3.7.6 64-bit (conda)"
  }
 },
 "nbformat": 4,
 "nbformat_minor": 2,
 "cells": [
  {
   "source": [
    "# Programming: Neural Networks Learning\n",
    "\n",
    "## Introduction\n",
    "\n",
    "In this session, We will implement the Feedforward and backpropagation algorithms for neural networks and apply it.\n",
    "    Instructions\n",
    "    ------------\n",
    "    we will complete the code by working through the following parts.\n",
    "    \n",
    "    - Part 1: Feedforward the neural network and return the cost in the \n",
    "              variable J.\n",
    "    \n",
    "    - Part 2: Implement the backpropagation algorithm to compute the gradients\n",
    "              Theta1_grad and Theta2_grad. \n",
    "    \n",
    "    - Part 3: Implement regularization with the cost function and gradients.\n",
    "    \n",
    "\n",
    "    "
   ],
   "cell_type": "markdown",
   "metadata": {}
  },
  {
   "source": [
    "Truth tableof the logical operator XOR :-\n",
    "\n",
    "![](Figures/Truth-table-of-the-logical-operator-XOR.png) \n"
   ],
   "cell_type": "markdown",
   "metadata": {}
  },
  {
   "cell_type": "code",
   "execution_count": null,
   "metadata": {
    "tags": [
     "outputPrepend"
    ]
   },
   "outputs": [],
   "source": [
    "import numpy as np\n",
    "# Setup the parameters you will use for this code\n",
    "input_layer_size  = 2  \n",
    "hidden_layer_size = 2   \n",
    "num_labels = 2          \n",
    "lambda_ = 0\n",
    "N_itrations = 10000 \n",
    "alpha  = 0.1\n",
    "\n",
    "X=np.array([[0 , 0],\n",
    "           [0 , 1],\n",
    "           [1 , 0],\n",
    "           [1 , 1]])\n",
    "\n",
    "y=np.array([[0],\n",
    "           [1],\n",
    "           [1],\n",
    "           [0]])\n",
    "\n",
    "\n",
    "\n",
    "m = y.size # number of trained examples\n",
    "\n",
    "\n",
    "#J, Theta1 , Theta2 = nn_function( N_itrations, input_layer_size, hidden_layer_size,num_labels, X, y, lambda_ , alpha)"
   ]
  },
  {
   "source": [
    "Our neural network is shown in the following figure.\n",
    "\n",
    "                           Feedforward                                                       backpropagation  \n",
    "\n",
    "![](Figures/neural_network.png) \n",
    "![](Figures/ex4-backpropagation.png)\n"
   ],
   "cell_type": "markdown",
   "metadata": {}
  },
  {
   "source": [
    "\n",
    "$$ y = \n",
    "\\begin{bmatrix} 1 \\\\ 0 \\\\ 0 \\\\\\vdots \\\\ 0 \\end{bmatrix}, \\quad\n",
    "\\begin{bmatrix} 0 \\\\ 1 \\\\ 0 \\\\ \\vdots \\\\ 0 \\end{bmatrix}, \\quad \\cdots  \\quad \\text{or} \\qquad\n",
    "\\begin{bmatrix} 0 \\\\ 0 \\\\ 0 \\\\ \\vdots \\\\ 1 \\end{bmatrix}.\n",
    "$$\n"
   ],
   "cell_type": "markdown",
   "metadata": {}
  },
  {
   "cell_type": "code",
   "execution_count": null,
   "metadata": {},
   "outputs": [],
   "source": [
    "# convert y vector to y matrix\n",
    "yn=np.zeros((num_labels,m))\n",
    "\n",
    "for i in range(m):\n",
    "   yn[y[i],i]=1                 # y[i] is the value inside the old y -> 0,1   (coulom location)\n",
    "print('y old' , y)              # i is location (number of row)\n",
    "print('y new' , yn.T)\n"
   ]
  },
  {
   "cell_type": "code",
   "execution_count": null,
   "metadata": {},
   "outputs": [],
   "source": [
    "        A,B=X.shape\n",
    "        a = np.ones((A , B+1))\n",
    "        a[:,1:]=X                  #To add a0\n",
    "        print('x' , X)\n",
    "        print('a' , a)"
   ]
  },
  {
   "source": [
    "Recall that the cost function for the neural network (without regularization) is:\n",
    "\n",
    "$$ J(\\theta) = \\frac{1}{m} \\sum_{i=1}^{m}\\sum_{k=1}^{K} \\left[ - y_k^{(i)} \\log \\left( \\left( h_\\theta \\left( x^{(i)} \\right) \\right)_k \\right) - \\left( 1 - y_k^{(i)} \\right) \\log \\left( 1 - \\left( h_\\theta \\left( x^{(i)} \\right) \\right)_k \\right) \\right]$$\n",
    "\n",
    "The cost function for neural networks with regularization is given by:\n",
    "\n",
    "\n",
    "$$ J(\\theta) = \\frac{1}{m} \\sum_{i=1}^{m}\\sum_{k=1}^{K} \\left[ - y_k^{(i)} \\log \\left( \\left( h_\\theta \\left( x^{(i)} \\right) \\right)_k \\right) - \\left( 1 - y_k^{(i)} \\right) \\log \\left( 1 - \\left( h_\\theta \\left( x^{(i)} \\right) \\right)_k \\right) \\right] + \\frac{\\lambda}{2 m} \\left[ \\sum_{j=1}^{25} \\sum_{k=1}^{400} \\left( \\Theta_{j,k}^{(1)} \\right)^2 + \\sum_{j=1}^{10} \\sum_{k=1}^{25} \\left( \\Theta_{j,k}^{(2)} \\right)^2 \\right] $$\n"
   ],
   "cell_type": "markdown",
   "metadata": {}
  },
  {
   "cell_type": "code",
   "execution_count": null,
   "metadata": {},
   "outputs": [],
   "source": [
    "def nn_function( N_itrations , input_layer_size, hidden_layer_size,num_labels, X, y, lambda_ , alpha):\n",
    "    \n",
    "  #______Initialize parameters Theta1 and Theta2 (the weight matrices for our 2 layer neural network)____\n",
    "    Theta1 = np.reshape(np.random.rand(hidden_layer_size * (input_layer_size + 1)),    # range\n",
    "                        (hidden_layer_size, (input_layer_size + 1)))                      # shape\n",
    "    \n",
    "    Theta2 = np.reshape(np.random.rand((num_labels * (hidden_layer_size + 1))),  # range\n",
    "                (num_labels, (hidden_layer_size + 1)))                            # shape   \n",
    "    \n",
    "    m = y.size   \n",
    "    \n",
    "    J = 0\n",
    "    \n",
    "    Theta1_grad = np.zeros(Theta1.shape)\n",
    "    Theta2_grad = np.zeros(Theta2.shape)\n",
    "  #_______________________________________________Code____________________________________________________\n",
    "\n",
    "    for i in range(N_itrations): \n",
    "\n",
    "        # 1- Feedforward the neural network and return the cost in the variable J.   \n",
    "        A,B=X.shape\n",
    "        a1 = np.ones((A , B+1))\n",
    "        a1[:,1:]=X                  #To add a0\n",
    "        \n",
    "                \n",
    "        z2=np.dot(a1 , Theta1.T)\n",
    "        a2=1.0 / (1.0 + np.exp(-z2)) #sigmoid\n",
    "        \n",
    "        A,B=a2.shape\n",
    "        a2n = np.ones((A , B+1))\n",
    "        a2n[:,1:]=a2                  #To add a0\n",
    "        \n",
    "        z3=np.dot(a2n , Theta2.T)\n",
    "        a3=1.0 / (1.0 + np.exp(-z3)) #sigmoid\n",
    "        h=a3\n",
    "        \n",
    "        \n",
    "        \n",
    "        \n",
    "        # print('output' , h.T)\n",
    "        # print('y' , yn)\n",
    "        \n",
    "        \n",
    "        J=sum(sum(1/m*((-yn*np.log(h.T))-(1-yn)*np.log(1-h.T))))\n",
    "        \n",
    "        print('Cost: %.6f ' % J)\n",
    "      \n",
    "        # with regularization\n",
    "        t1=Theta1[:,1:]\n",
    "        t2=Theta2[:,1:]         \n",
    "\n",
    "        J = J + (lambda_*(sum(sum(t1**2))+sum(sum(t2**2)))/(2*m))\n",
    "\n",
    "    \n",
    "\n",
    "        print('regularized Cost: %.6f ' % J)\n",
    "        \n",
    "        \n",
    "\n",
    "        \n",
    "        \n",
    "        #___________________________________________________________________________________________\n",
    "        \n",
    "        # Implement the backpropagation algorithm\n",
    "        \n",
    "        # SIGMOIDGRADIENT =sigmoid(z)*(1-sigmoid(z))\n",
    "        \n",
    "        delta_3 = h-yn.T \n",
    "        delta_2 = np.dot(delta_3 , Theta2)*((a2n * (1-a2n)))\n",
    "        delta_2 = delta_2[:,1:]\n",
    "        \n",
    "        \n",
    "        \n",
    "        Theta1_grad = np.dot(  (delta_2).T , a1 )/m \n",
    "        Theta2_grad = np.dot(  (delta_3).T , a2n )/m  \n",
    "            \n",
    "        # # with regularization\n",
    "        Theta1_grad[:,1:] = Theta1_grad[:,1:] + lambda_/m*Theta1[:,1:]  #To remove a0\n",
    "        Theta2_grad[:,1:] = Theta2_grad[:,1:] + lambda_/m*Theta2[:,1:]  #To remove a0\n",
    "        \n",
    "        \n",
    "        Theta1 -= alpha*Theta1_grad\n",
    "        Theta2 -= alpha*Theta2_grad\n",
    "\n",
    "    print('output' , h.T)\n",
    "    print('y' , yn)\n",
    "    return J, Theta1 , Theta2\n"
   ]
  },
  {
   "cell_type": "code",
   "execution_count": null,
   "metadata": {},
   "outputs": [],
   "source": [
    "        # Test\n",
    "        print('Theta1' , Theta1)\n",
    "        print('Theta2' , Theta2)\n",
    "        \n",
    "        A,B=X.shape\n",
    "        a1 = np.ones((A , B+1))\n",
    "        a1[:,1:]=X                  #To add a0\n",
    "        \n",
    "                \n",
    "        z2=np.dot(a1 , Theta1.T)\n",
    "        a2=1.0 / (1.0 + np.exp(-z2)) #sigmoid\n",
    "        \n",
    "        A,B=a2.shape\n",
    "        a2n = np.ones((A , B+1))\n",
    "        a2n[:,1:]=a2                  #To add a0\n",
    "        \n",
    "        z3=np.dot(a2n , Theta2.T)\n",
    "        a3=1.0 / (1.0 + np.exp(-z3)) #sigmoid\n",
    "        h=a3\n",
    "        print('output' , h.T)"
   ]
  },
  {
   "cell_type": "code",
   "execution_count": null,
   "metadata": {},
   "outputs": [],
   "source": []
  }
 ]
}