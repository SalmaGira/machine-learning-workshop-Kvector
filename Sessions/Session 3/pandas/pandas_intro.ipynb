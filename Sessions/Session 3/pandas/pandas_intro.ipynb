{
 "cells": [
  {
   "cell_type": "markdown",
   "metadata": {},
   "source": [
    "## Loading data into Pandas"
   ]
  },
  {
   "cell_type": "code",
   "execution_count": null,
   "metadata": {},
   "outputs": [],
   "source": [
    "import pandas as pd\n",
    "\n",
    "def prt(*arg):\n",
    "    print(*arg,sep = \"\\n\\n\",end = \"\\n\\n-----------------------------------------------------------------------------------------\\n\\n\")\n",
    "\n",
    "df = pd.read_csv('data.csv')\n",
    "\n",
    "prt(df.head(5))\n",
    "\n",
    "# df_xlsx = pd.read_excel('data.xlsx')# excel files\n",
    "# print(df_xlsx.head(3))\n",
    "\n",
    "# df = pd.read_csv('data.txt')# also text files\n",
    "prt(df.Name)\n",
    "prt(df['Name'])\n",
    "\n",
    "# what is the diff between print & invoking the raw value ??\n",
    "df[\"Name\"]"
   ]
  },
  {
   "cell_type": "markdown",
   "metadata": {},
   "source": [
    "## Reading Data in Pandas"
   ]
  },
  {
   "cell_type": "code",
   "execution_count": null,
   "metadata": {},
   "outputs": [],
   "source": [
    "# Read Headers\n",
    "#df.columns\n",
    "\n",
    "# accessing values with its indices\n",
    "#df.iloc[5,2]\n",
    "\n",
    "# accessing values based on its labels\n",
    "# can be used with conditions\n",
    "#df.loc[5,\"Name\"]"
   ]
  },
  {
   "cell_type": "markdown",
   "metadata": {},
   "source": [
    "## Sorting/Describing Data"
   ]
  },
  {
   "cell_type": "code",
   "execution_count": null,
   "metadata": {},
   "outputs": [],
   "source": [
    "df.sort_values('Overall')"
   ]
  },
  {
   "cell_type": "markdown",
   "metadata": {},
   "source": [
    "## Making changes to the data"
   ]
  },
  {
   "cell_type": "code",
   "execution_count": null,
   "metadata": {},
   "outputs": [],
   "source": [
    "#df['OverallTackle'] = df['StandingTackle'] + df['SlidingTackle']# sums the tackles\n",
    "\n",
    "#df['OverallTackle'] = df.loc[:,['StandingTackle','SlidingTackle']].mean(axis=1)# means the tackles\n",
    "#or\n",
    "#df['OverallTackle'] = df[['StandingTackle','SlidingTackle']].mean(axis=1)# means the tackles\n",
    "\n",
    "#df = df.drop(columns=['OverallTackle'])\n",
    "\n",
    "df"
   ]
  },
  {
   "cell_type": "markdown",
   "metadata": {},
   "source": [
    "## Filtering Data"
   ]
  },
  {
   "cell_type": "code",
   "execution_count": null,
   "metadata": {},
   "outputs": [],
   "source": [
    "filtered_df = df.loc[(df['Overall'] > 85) & (df['Finishing'] > 90)]\n",
    "\n",
    "#filtered_df = filtered_df.reset_index(drop=False)\n",
    "\n",
    "filtered_df#[['index','Name','Overall','Finishing']]\n"
   ]
  },
  {
   "cell_type": "markdown",
   "metadata": {},
   "source": [
    "## Aggregate Statistics (Groupby)\n"
   ]
  },
  {
   "cell_type": "code",
   "execution_count": null,
   "metadata": {
    "scrolled": false
   },
   "outputs": [],
   "source": [
    "df.groupby(['Club']).count()\n",
    "# also other stat functions like mean, sum, var, std, ..."
   ]
  },
  {
   "cell_type": "markdown",
   "metadata": {},
   "source": [
    "## Saving our Data (Exporting into Desired Format)"
   ]
  },
  {
   "cell_type": "code",
   "execution_count": null,
   "metadata": {},
   "outputs": [],
   "source": [
    "#df.to_csv('modified_noind.csv', index=False)# as csv\n",
    "\n",
    "#df.to_csv('modified.txt', index=False, sep='\\t')# other formats\n",
    "#df.to_excel('modified.xlsx', index=False)\n",
    "\n",
    "#df.to_csv('modified_ind.csv')\n"
   ]
  }
 ],
 "metadata": {
  "kernelspec": {
   "display_name": "Python 3",
   "language": "python",
   "name": "python3"
  },
  "language_info": {
   "codemirror_mode": {
    "name": "ipython",
    "version": 3
   },
   "file_extension": ".py",
   "mimetype": "text/x-python",
   "name": "python",
   "nbconvert_exporter": "python",
   "pygments_lexer": "ipython3",
   "version": "3.7.4"
  }
 },
 "nbformat": 4,
 "nbformat_minor": 2
}
